{
 "cells": [
  {
   "cell_type": "code",
   "execution_count": 1,
   "metadata": {},
   "outputs": [],
   "source": [
    "import numpy as np\n",
    "import random \n",
    "from scipy import optimize\n",
    "import time"
   ]
  },
  {
   "cell_type": "markdown",
   "metadata": {},
   "source": [
    "# Exercice 1"
   ]
  },
  {
   "cell_type": "markdown",
   "metadata": {},
   "source": [
    "## 1) We will assert if our objective function and the two other inequality constraint functions are convex"
   ]
  },
  {
   "cell_type": "code",
   "execution_count": 2,
   "metadata": {},
   "outputs": [],
   "source": [
    "def f_0(x,y):\n",
    "    return np.exp(x)*(4*x*x+2*y*y+4*x*y+2*y+1)\n",
    "def f_1(x,y):\n",
    "    return x*y-x-y+1.5\n",
    "def f_2(x,y):\n",
    "    return -x*y-10"
   ]
  },
  {
   "cell_type": "code",
   "execution_count": 3,
   "metadata": {},
   "outputs": [
    {
     "name": "stdout",
     "output_type": "stream",
     "text": [
      "0\n"
     ]
    }
   ],
   "source": [
    "x1=float()\n",
    "x2=float()\n",
    "y1=float()\n",
    "y2=float()\n",
    "sum=0\n",
    "for i in range (10):\n",
    "    a = random.random()\n",
    "    if f_0(a*x1+(1-a)*x2,a*y1+(1-a)*y2)> a*f_0(x1,y1)+(1-a)*f_0(x2,y2):\n",
    "        sum+=1 \n",
    "## sum gives us the number of times the inequality is not respected out of the 10 maximum possible times\n",
    "print(sum)"
   ]
  },
  {
   "cell_type": "raw",
   "metadata": {},
   "source": [
    "The objective function f_0 is thus a convex function "
   ]
  },
  {
   "cell_type": "code",
   "execution_count": 4,
   "metadata": {},
   "outputs": [
    {
     "name": "stdout",
     "output_type": "stream",
     "text": [
      "0\n"
     ]
    }
   ],
   "source": [
    "x1=float()\n",
    "x2=float()\n",
    "y1=float()\n",
    "y2=float()\n",
    "sum=0\n",
    "for i in range (10):\n",
    "    a = random.random()\n",
    "    if f_1(a*x1+(1-a)*x2,a*y1+(1-a)*y2)> a*f_1(x1,y1)+(1-a)*f_1(x2,y2):\n",
    "        sum+=1 \n",
    "## sum gives us the number of times the inequality is not respected out of the 10 maximum possible times\n",
    "print(sum)"
   ]
  },
  {
   "cell_type": "raw",
   "metadata": {},
   "source": [
    "f_1 is thus a convex function"
   ]
  },
  {
   "cell_type": "code",
   "execution_count": 5,
   "metadata": {},
   "outputs": [
    {
     "name": "stdout",
     "output_type": "stream",
     "text": [
      "0\n"
     ]
    }
   ],
   "source": [
    "x1=float()\n",
    "x2=float()\n",
    "y1=float()\n",
    "y2=float()\n",
    "sum=0\n",
    "for i in range (10):\n",
    "    a = random.random()\n",
    "    if f_2(a*x1+(1-a)*x2,a*y1+(1-a)*y2)> a*f_2(x1,y1)+(1-a)*f_2(x2,y2):\n",
    "        sum+=1 \n",
    "## sum gives us the number of times the inequality is not respected out of the 10 maximum possible times\n",
    "print(sum)"
   ]
  },
  {
   "cell_type": "raw",
   "metadata": {},
   "source": [
    "f_2 is thus a convex function"
   ]
  },
  {
   "cell_type": "markdown",
   "metadata": {},
   "source": [
    "Thi problem is a convex optimization problem"
   ]
  },
  {
   "cell_type": "markdown",
   "metadata": {},
   "source": [
    "## 2)"
   ]
  },
  {
   "cell_type": "code",
   "execution_count": 6,
   "metadata": {},
   "outputs": [
    {
     "data": {
      "text/plain": [
       "      fun: 2.9971761830880393e-12\n",
       " hess_inv: array([[ 0.15176223, -0.149116  ],\n",
       "       [-0.149116  ,  0.35912721]])\n",
       "      jac: array([6.58419020e-06, 6.28937276e-06])\n",
       "  message: 'Optimization terminated successfully.'\n",
       "     nfev: 33\n",
       "      nit: 8\n",
       "     njev: 11\n",
       "   status: 0\n",
       "  success: True\n",
       "        x: array([ 0.50000004, -0.99999908])"
      ]
     },
     "execution_count": 6,
     "metadata": {},
     "output_type": "execute_result"
    }
   ],
   "source": [
    "def f_0(x):\n",
    "    return np.exp(x[0])*(4*x[0]*x[0]+2*x[1]*x[1]+4*x[0]*x[1]+2*x[1]+1)\n",
    "x0= [0,0]\n",
    "optimize.minimize (f_0,x0)"
   ]
  },
  {
   "cell_type": "markdown",
   "metadata": {},
   "source": [
    "It took the algorithm 8 iterations in order to find the optimal value, but it doesn't respect the condition of f_1 so we won't consider it"
   ]
  },
  {
   "cell_type": "code",
   "execution_count": 7,
   "metadata": {},
   "outputs": [
    {
     "data": {
      "text/plain": [
       "     fun: 0.023550379624174854\n",
       "     jac: array([ 0.01839703, -0.00228436])\n",
       " message: 'Optimization terminated successfully'\n",
       "    nfev: 54\n",
       "     nit: 17\n",
       "    njev: 17\n",
       "  status: 0\n",
       " success: True\n",
       "       x: array([-9.54740503,  1.04740503])"
      ]
     },
     "execution_count": 7,
     "metadata": {},
     "output_type": "execute_result"
    }
   ],
   "source": [
    "def f_0(x):\n",
    "    return np.exp(x[0])*(4*x[0]*x[0]+2*x[1]*x[1]+4*x[0]*x[1]+2*x[1]+1)\n",
    "def f_1(x):\n",
    "    return -x[0]*x[1]+x[0]+x[1]-1.5\n",
    "def f_2(x):\n",
    "    return x[0]*x[1]+10\n",
    "cons = ({'type': 'ineq','fun' : f_1},{'type': 'ineq','fun' : f_2})\n",
    "x0= [0,0]\n",
    "optimize.minimize (f_0,x0,constraints= cons)"
   ]
  },
  {
   "cell_type": "markdown",
   "metadata": {},
   "source": [
    "It took the algorithm 17 iterations in order to find the optimal value"
   ]
  },
  {
   "cell_type": "code",
   "execution_count": 8,
   "metadata": {},
   "outputs": [
    {
     "data": {
      "text/plain": [
       "     fun: 44956016.68720051\n",
       "     jac: array([48480251.5,  2687229. ])\n",
       " message: 'Inequality constraints incompatible'\n",
       "    nfev: 3\n",
       "     nit: 1\n",
       "    njev: 1\n",
       "  status: 4\n",
       " success: False\n",
       "       x: array([10., 20.])"
      ]
     },
     "execution_count": 8,
     "metadata": {},
     "output_type": "execute_result"
    }
   ],
   "source": [
    "def f_0(x):\n",
    "    return np.exp(x[0])*(4*x[0]*x[0]+2*x[1]*x[1]+4*x[0]*x[1]+2*x[1]+1)\n",
    "def f_1(x):\n",
    "    return -x[0]*x[1]+x[0]+x[1]-1.5\n",
    "def f_2(x):\n",
    "    return x[0]*x[1]+10\n",
    "cons = ({'type': 'ineq','fun' : f_1},{'type': 'ineq','fun' : f_2})\n",
    "x0= [10,20]\n",
    "optimize.minimize (f_0,x0,constraints= cons)"
   ]
  },
  {
   "cell_type": "markdown",
   "metadata": {},
   "source": [
    "It took the algorithm 1 iteration in order to find the optimal value, bit this value doesn't verify the conditions"
   ]
  },
  {
   "cell_type": "code",
   "execution_count": 9,
   "metadata": {},
   "outputs": [
    {
     "data": {
      "text/plain": [
       "     fun: 0.0235503796241749\n",
       "     jac: array([ 0.01839703, -0.00228436])\n",
       " message: 'Optimization terminated successfully'\n",
       "    nfev: 10\n",
       "     nit: 3\n",
       "    njev: 3\n",
       "  status: 0\n",
       " success: True\n",
       "       x: array([-9.54740503,  1.04740503])"
      ]
     },
     "execution_count": 9,
     "metadata": {},
     "output_type": "execute_result"
    }
   ],
   "source": [
    "def f_0(x):\n",
    "    return np.exp(x[0])*(4*x[0]*x[0]+2*x[1]*x[1]+4*x[0]*x[1]+2*x[1]+1)\n",
    "def f_1(x):\n",
    "    return -x[0]*x[1]+x[0]+x[1]-1.5\n",
    "def f_2(x):\n",
    "    return x[0]*x[1]+10\n",
    "cons = ({'type': 'ineq','fun' : f_1},{'type': 'ineq','fun' : f_2})\n",
    "x0= [-10,1]\n",
    "optimize.minimize (f_0,x0,constraints= cons)"
   ]
  },
  {
   "cell_type": "markdown",
   "metadata": {},
   "source": [
    "It took about 3 iterations for the algorithm in order to find the optimal value, the value is not respecting the condition relative to the function f_1 so we won't consider it"
   ]
  },
  {
   "cell_type": "code",
   "execution_count": 10,
   "metadata": {},
   "outputs": [
    {
     "data": {
      "text/plain": [
       "     fun: 5.384095757961196e-05\n",
       "     jac: array([ 4.72560305e-05, -3.08820336e-06])\n",
       " message: 'Optimization terminated successfully'\n",
       "    nfev: 16\n",
       "     nit: 5\n",
       "    njev: 5\n",
       "  status: 0\n",
       " success: True\n",
       "       x: array([-16.80028037,   1.02808945])"
      ]
     },
     "execution_count": 10,
     "metadata": {},
     "output_type": "execute_result"
    }
   ],
   "source": [
    "def f_0(x):\n",
    "    return np.exp(x[0])*(4*x[0]*x[0]+2*x[1]*x[1]+4*x[0]*x[1]+2*x[1]+1)\n",
    "def f_1(x):\n",
    "    return x[0]*x[1]-x[0]-x[1]+1.5\n",
    "def f_2(x):\n",
    "    return -x[0]*x[1]-10\n",
    "cons = ({'type': 'ineq','fun' : f_1},{'type': 'ineq','fun' : f_2})\n",
    "x0= [-30,30]\n",
    "optimize.minimize (f_0,x0,constraints= cons)"
   ]
  },
  {
   "cell_type": "raw",
   "metadata": {},
   "source": [
    "The constraints are not always satisfied in the values found for some initial conditions. These values don't respond to our problem and won't thus be considered"
   ]
  },
  {
   "cell_type": "code",
   "execution_count": 11,
   "metadata": {},
   "outputs": [
    {
     "data": {
      "image/png": "[encoded data removed]",
      "text/plain": [
       "<Figure size 432x288 with 1 Axes>"
      ]
     },
     "metadata": {
      "needs_background": "light"
     },
     "output_type": "display_data"
    }
   ],
   "source": [
    "# surface plot for 2d objective function\n",
    "from numpy import arange\n",
    "from numpy import meshgrid\n",
    "from matplotlib import pyplot\n",
    "from mpl_toolkits.mplot3d import Axes3D\n",
    "\n",
    "# objective function\n",
    "def objective(x,y):\n",
    "\treturn np.exp(x)*(4*x*x+2*y*y+4*x*y+2*y+1)\n",
    "\n",
    "# define range for input\n",
    "r_min, r_max = -30.0, 30.0\n",
    "# sample input range uniformly at 0.1 increments\n",
    "xaxis = arange(r_min, r_max, 0.1)\n",
    "yaxis = arange(r_min, r_max, 0.1)\n",
    "# create a mesh from the axis\n",
    "x, y = meshgrid(xaxis, yaxis)\n",
    "# compute targets\n",
    "results = objective(x,y)\n",
    "# create a surface plot with the jet color scheme\n",
    "figure = pyplot.figure()\n",
    "axis = figure.gca(projection='3d')\n",
    "axis.plot_surface(x, y, results, cmap='jet')\n",
    "# show the plot\n",
    "pyplot.show()"
   ]
  },
  {
   "cell_type": "raw",
   "metadata": {},
   "source": [
    "We see that the function increases drastically with x as the exponential term was suggesting. We can assert that the regions y<0 and (x<0,y<10) are where the minimum is realised"
   ]
  },
  {
   "cell_type": "code",
   "execution_count": 12,
   "metadata": {},
   "outputs": [],
   "source": [
    "def jacob_f(x):\n",
    "    dx=(4*x[0]*x[0]+2*x[1]*x[1]+4*x[0]*x[1]+2*x[1]+1+8*x[0]+4*x[1])*np.exp(x[0])\n",
    "    dy=np.exp(x[0])*(4*x[1]+4*x[0]+2)\n",
    "    return np.array((dx, dy))\n",
    "    \n",
    "    "
   ]
  },
  {
   "cell_type": "code",
   "execution_count": 13,
   "metadata": {},
   "outputs": [
    {
     "ename": "NameError",
     "evalue": "name 'f' is not defined",
     "output_type": "error",
     "traceback": [
      "\u001b[0;31m---------------------------------------------------------------------------\u001b[0m",
      "\u001b[0;31mNameError\u001b[0m                                 Traceback (most recent call last)",
      "\u001b[0;32m<ipython-input-13-cb538f3213f4>\u001b[0m in \u001b[0;36m<module>\u001b[0;34m\u001b[0m\n\u001b[1;32m      1\u001b[0m \u001b[0mx0\u001b[0m\u001b[0;34m=\u001b[0m\u001b[0;34m[\u001b[0m\u001b[0;36m0\u001b[0m\u001b[0;34m,\u001b[0m\u001b[0;36m0\u001b[0m\u001b[0;34m]\u001b[0m\u001b[0;34m\u001b[0m\u001b[0;34m\u001b[0m\u001b[0m\n\u001b[0;32m----> 2\u001b[0;31m \u001b[0moptimize\u001b[0m\u001b[0;34m.\u001b[0m\u001b[0mminimize\u001b[0m\u001b[0;34m(\u001b[0m\u001b[0mf\u001b[0m\u001b[0;34m,\u001b[0m \u001b[0mx0\u001b[0m\u001b[0;34m,\u001b[0m \u001b[0mconstraints\u001b[0m\u001b[0;34m=\u001b[0m\u001b[0mcons\u001b[0m\u001b[0;34m,\u001b[0m\u001b[0mjac\u001b[0m\u001b[0;34m=\u001b[0m\u001b[0mjacob_f\u001b[0m\u001b[0;34m)\u001b[0m\u001b[0;34m\u001b[0m\u001b[0;34m\u001b[0m\u001b[0m\n\u001b[0m",
      "\u001b[0;31mNameError\u001b[0m: name 'f' is not defined"
     ]
    }
   ],
   "source": [
    "x0=[0,0]\n",
    "optimize.minimize(f, x0, constraints=cons,jac=jacob_f)"
   ]
  },
  {
   "cell_type": "code",
   "execution_count": 14,
   "metadata": {},
   "outputs": [
    {
     "ename": "NameError",
     "evalue": "name 'f' is not defined",
     "output_type": "error",
     "traceback": [
      "\u001b[0;31m---------------------------------------------------------------------------\u001b[0m",
      "\u001b[0;31mNameError\u001b[0m                                 Traceback (most recent call last)",
      "\u001b[0;32m<ipython-input-14-1e4980e98157>\u001b[0m in \u001b[0;36m<module>\u001b[0;34m\u001b[0m\n\u001b[1;32m      1\u001b[0m \u001b[0mx0\u001b[0m\u001b[0;34m=\u001b[0m\u001b[0;34m[\u001b[0m\u001b[0;34m-\u001b[0m\u001b[0;36m30\u001b[0m\u001b[0;34m,\u001b[0m\u001b[0;36m30\u001b[0m\u001b[0;34m]\u001b[0m\u001b[0;34m\u001b[0m\u001b[0;34m\u001b[0m\u001b[0m\n\u001b[0;32m----> 2\u001b[0;31m \u001b[0moptimize\u001b[0m\u001b[0;34m.\u001b[0m\u001b[0mminimize\u001b[0m\u001b[0;34m(\u001b[0m\u001b[0mf\u001b[0m\u001b[0;34m,\u001b[0m \u001b[0mx0\u001b[0m\u001b[0;34m,\u001b[0m \u001b[0mconstraints\u001b[0m\u001b[0;34m=\u001b[0m\u001b[0mcons\u001b[0m\u001b[0;34m,\u001b[0m\u001b[0mjac\u001b[0m\u001b[0;34m=\u001b[0m\u001b[0mjacob_f\u001b[0m\u001b[0;34m)\u001b[0m\u001b[0;34m\u001b[0m\u001b[0;34m\u001b[0m\u001b[0m\n\u001b[0m",
      "\u001b[0;31mNameError\u001b[0m: name 'f' is not defined"
     ]
    }
   ],
   "source": [
    "x0=[-30,30]\n",
    "optimize.minimize(f, x0, constraints=cons,jac=jacob_f)"
   ]
  },
  {
   "cell_type": "code",
   "execution_count": 15,
   "metadata": {},
   "outputs": [
    {
     "ename": "NameError",
     "evalue": "name 'f' is not defined",
     "output_type": "error",
     "traceback": [
      "\u001b[0;31m---------------------------------------------------------------------------\u001b[0m",
      "\u001b[0;31mNameError\u001b[0m                                 Traceback (most recent call last)",
      "\u001b[0;32m<ipython-input-15-c22531153dc3>\u001b[0m in \u001b[0;36m<module>\u001b[0;34m\u001b[0m\n\u001b[1;32m      1\u001b[0m \u001b[0mx0\u001b[0m\u001b[0;34m=\u001b[0m\u001b[0;34m[\u001b[0m\u001b[0;34m-\u001b[0m\u001b[0;36m10\u001b[0m\u001b[0;34m,\u001b[0m\u001b[0;36m1\u001b[0m\u001b[0;34m]\u001b[0m\u001b[0;34m\u001b[0m\u001b[0;34m\u001b[0m\u001b[0m\n\u001b[0;32m----> 2\u001b[0;31m \u001b[0moptimize\u001b[0m\u001b[0;34m.\u001b[0m\u001b[0mminimize\u001b[0m\u001b[0;34m(\u001b[0m\u001b[0mf\u001b[0m\u001b[0;34m,\u001b[0m \u001b[0mx0\u001b[0m\u001b[0;34m,\u001b[0m \u001b[0mconstraints\u001b[0m\u001b[0;34m=\u001b[0m\u001b[0mcons\u001b[0m\u001b[0;34m,\u001b[0m\u001b[0mjac\u001b[0m\u001b[0;34m=\u001b[0m\u001b[0mjacob_f\u001b[0m\u001b[0;34m)\u001b[0m\u001b[0;34m\u001b[0m\u001b[0;34m\u001b[0m\u001b[0m\n\u001b[0m",
      "\u001b[0;31mNameError\u001b[0m: name 'f' is not defined"
     ]
    }
   ],
   "source": [
    "x0=[-10,1]\n",
    "optimize.minimize(f, x0, constraints=cons,jac=jacob_f)"
   ]
  },
  {
   "cell_type": "code",
   "execution_count": 16,
   "metadata": {},
   "outputs": [
    {
     "ename": "NameError",
     "evalue": "name 'f' is not defined",
     "output_type": "error",
     "traceback": [
      "\u001b[0;31m---------------------------------------------------------------------------\u001b[0m",
      "\u001b[0;31mNameError\u001b[0m                                 Traceback (most recent call last)",
      "\u001b[0;32m<ipython-input-16-d608e4880119>\u001b[0m in \u001b[0;36m<module>\u001b[0;34m\u001b[0m\n\u001b[1;32m      1\u001b[0m \u001b[0mx0\u001b[0m\u001b[0;34m=\u001b[0m\u001b[0;34m[\u001b[0m\u001b[0;36m10\u001b[0m\u001b[0;34m,\u001b[0m\u001b[0;36m20\u001b[0m\u001b[0;34m]\u001b[0m\u001b[0;34m\u001b[0m\u001b[0;34m\u001b[0m\u001b[0m\n\u001b[0;32m----> 2\u001b[0;31m \u001b[0moptimize\u001b[0m\u001b[0;34m.\u001b[0m\u001b[0mminimize\u001b[0m\u001b[0;34m(\u001b[0m\u001b[0mf\u001b[0m\u001b[0;34m,\u001b[0m \u001b[0mx0\u001b[0m\u001b[0;34m,\u001b[0m \u001b[0mconstraints\u001b[0m\u001b[0;34m=\u001b[0m\u001b[0mcons\u001b[0m\u001b[0;34m,\u001b[0m\u001b[0mjac\u001b[0m\u001b[0;34m=\u001b[0m\u001b[0mjacob_f\u001b[0m\u001b[0;34m)\u001b[0m\u001b[0;34m\u001b[0m\u001b[0;34m\u001b[0m\u001b[0m\n\u001b[0m",
      "\u001b[0;31mNameError\u001b[0m: name 'f' is not defined"
     ]
    }
   ],
   "source": [
    "x0=[10,20]\n",
    "optimize.minimize(f, x0, constraints=cons,jac=jacob_f)"
   ]
  },
  {
   "cell_type": "raw",
   "metadata": {},
   "source": [
    "These initial condition don't give us success although the number of iterations (5) is significantly smaller"
   ]
  },
  {
   "cell_type": "markdown",
   "metadata": {},
   "source": [
    "# Exercise 2"
   ]
  },
  {
   "cell_type": "markdown",
   "metadata": {},
   "source": [
    "## 1)"
   ]
  },
  {
   "cell_type": "code",
   "execution_count": 18,
   "metadata": {},
   "outputs": [],
   "source": [
    "def f(x):\n",
    "    return x[0]**2 + x[1]**2"
   ]
  },
  {
   "cell_type": "code",
   "execution_count": 19,
   "metadata": {},
   "outputs": [],
   "source": [
    "def f_1(x):\n",
    "    return x[0]-0.5\n",
    "def f_2(x):\n",
    "    return x[0]+x[1]-1\n",
    "def f_3(x):\n",
    "    return -f(x)-1\n",
    "def f_4(x):\n",
    "    return 8*x[0]**2+f(x)-9\n",
    "def f_5(x):\n",
    "    return x[0]**2-x[1]\n",
    "def f_6(x):\n",
    "    return x[1]**2-x[0]\n",
    "    "
   ]
  },
  {
   "cell_type": "code",
   "execution_count": 20,
   "metadata": {},
   "outputs": [
    {
     "name": "stdout",
     "output_type": "stream",
     "text": [
      "0\n"
     ]
    }
   ],
   "source": [
    "def f_7(x,y):\n",
    "    return x**2 + y**2\n",
    "x1=float()\n",
    "x2=float()\n",
    "y1=float()\n",
    "y2=float()\n",
    "sum=0\n",
    "for i in range (10):\n",
    "    a = random.random()\n",
    "    if f_7(a*x1+(1-a)*x2,a*y1+(1-a)*y2)> a*f_7(x1,y1)+(1-a)*f_7(x2,y2):\n",
    "        sum+=1 \n",
    "## sum gives us the number of times the inequality of convexity is not respected out of the 10 maximum possible times\n",
    "print(sum)"
   ]
  },
  {
   "cell_type": "markdown",
   "metadata": {},
   "source": [
    "f is thus  a convex function "
   ]
  },
  {
   "cell_type": "markdown",
   "metadata": {},
   "source": [
    "The function f_3 is not a convex function beacause -f is concave, the probleme is thus quasi convex\n"
   ]
  },
  {
   "cell_type": "markdown",
   "metadata": {},
   "source": [
    "## 2)"
   ]
  },
  {
   "cell_type": "markdown",
   "metadata": {},
   "source": [
    "We notice that[1,1] is a feasible point and [0,0] is not a feasible point"
   ]
  },
  {
   "cell_type": "code",
   "execution_count": 22,
   "metadata": {},
   "outputs": [
    {
     "data": {
      "text/plain": [
       "     fun: 2.0\n",
       "     jac: array([2., 2.])\n",
       " message: 'Positive directional derivative for linesearch'\n",
       "    nfev: 3\n",
       "     nit: 5\n",
       "    njev: 1\n",
       "  status: 8\n",
       " success: False\n",
       "       x: array([1., 1.])"
      ]
     },
     "execution_count": 22,
     "metadata": {},
     "output_type": "execute_result"
    }
   ],
   "source": [
    "cons = ({'type': 'ineq','fun' : f_1},{'type': 'ineq','fun' : f_2},{'type': 'ineq','fun' : f_3},{'type': 'ineq','fun' : f_4},{'type': 'ineq','fun' : f_5},{'type': 'ineq','fun' : f_6})\n",
    "x0= [1,1]\n",
    "optimize.minimize (f,x0,constraints= cons)"
   ]
  },
  {
   "cell_type": "markdown",
   "metadata": {},
   "source": [
    "This solution verifies all the conditions and works, the number of iterations is also small"
   ]
  },
  {
   "cell_type": "code",
   "execution_count": 25,
   "metadata": {},
   "outputs": [
    {
     "data": {
      "text/plain": [
       "     fun: 6.581785094464021e-29\n",
       "     jac: array([1.49011450e-08, 1.49011613e-08])\n",
       " message: 'Positive directional derivative for linesearch'\n",
       "    nfev: 68\n",
       "     nit: 10\n",
       "    njev: 6\n",
       "  status: 8\n",
       " success: False\n",
       "       x: array([-8.11275519e-15,  3.24673420e-17])"
      ]
     },
     "execution_count": 25,
     "metadata": {},
     "output_type": "execute_result"
    }
   ],
   "source": [
    "cons = ({'type': 'ineq','fun' : f_1},{'type': 'ineq','fun' : f_2},{'type': 'ineq','fun' : f_3},{'type': 'ineq','fun' : f_4},{'type': 'ineq','fun' : f_5},{'type': 'ineq','fun' : f_6})\n",
    "x0= [0,0]\n",
    "optimize.minimize (f,x0,constraints= cons)"
   ]
  },
  {
   "cell_type": "markdown",
   "metadata": {},
   "source": [
    "This solution doesn't work the conditions are not respected."
   ]
  },
  {
   "cell_type": "code",
   "execution_count": 23,
   "metadata": {},
   "outputs": [],
   "source": [
    "def f(x):\n",
    "    return x[0]**2 + x[1]**2\n",
    "def jacob_f(x):\n",
    "    dx=2*x[0]\n",
    "    dy=2*x[1]\n",
    "    return np.array((dx,dy))"
   ]
  },
  {
   "cell_type": "code",
   "execution_count": 24,
   "metadata": {},
   "outputs": [
    {
     "data": {
      "text/plain": [
       "     fun: 2.0\n",
       "     jac: array([2., 2.])\n",
       " message: 'Positive directional derivative for linesearch'\n",
       "    nfev: 1\n",
       "     nit: 5\n",
       "    njev: 1\n",
       "  status: 8\n",
       " success: False\n",
       "       x: array([1., 1.])"
      ]
     },
     "execution_count": 24,
     "metadata": {},
     "output_type": "execute_result"
    }
   ],
   "source": [
    "x0=[1,1]\n",
    "optimize.minimize(f, x0, constraints=cons,jac=jacob_f)"
   ]
  },
  {
   "cell_type": "raw",
   "metadata": {},
   "source": [
    "This solution works ans as we saw in the previous exercice the number of iterations is significantly smaller."
   ]
  },
  {
   "cell_type": "markdown",
   "metadata": {},
   "source": [
    "# Exercice 3"
   ]
  },
  {
   "cell_type": "markdown",
   "metadata": {},
   "source": [
    "## 1) Checking whether it's a COP problem"
   ]
  },
  {
   "cell_type": "code",
   "execution_count": 16,
   "metadata": {},
   "outputs": [],
   "source": [
    "def f(x,y):\n",
    "    return x**2+y**2\n",
    "def f_1(x,y):\n",
    "    return f(x,y)+x*y-3\n",
    "def f_2(x,y):\n",
    "    return -1*(3*x+2*y-3)"
   ]
  },
  {
   "cell_type": "code",
   "execution_count": 17,
   "metadata": {},
   "outputs": [
    {
     "name": "stdout",
     "output_type": "stream",
     "text": [
      "0\n"
     ]
    }
   ],
   "source": [
    "x1=float()\n",
    "x2=float()\n",
    "y1=float()\n",
    "y2=float()\n",
    "sum=0\n",
    "for i in range (10):\n",
    "    a = random.random()\n",
    "    if f(a*x1+(1-a)*x2,a*y1+(1-a)*y2)> a*f(x1,y1)+(1-a)*f(x2,y2):\n",
    "        sum+=1 \n",
    "## sum gives us the number of times the inequality is not respected out of the 10 maximum possible times\n",
    "print(sum)"
   ]
  },
  {
   "cell_type": "raw",
   "metadata": {},
   "source": [
    "f is thus a convex function"
   ]
  },
  {
   "cell_type": "code",
   "execution_count": 18,
   "metadata": {},
   "outputs": [
    {
     "name": "stdout",
     "output_type": "stream",
     "text": [
      "0\n"
     ]
    }
   ],
   "source": [
    "x1=float()\n",
    "x2=float()\n",
    "y1=float()\n",
    "y2=float()\n",
    "sum=0\n",
    "for i in range (10):\n",
    "    a = random.random()\n",
    "    if f_1(a*x1+(1-a)*x2,a*y1+(1-a)*y2)> a*f_1(x1,y1)+(1-a)*f_1(x2,y2):\n",
    "        sum+=1 \n",
    "## sum gives us the number of times the inequality is not respected out of the 10 maximum possible times\n",
    "print(sum)"
   ]
  },
  {
   "cell_type": "raw",
   "metadata": {},
   "source": [
    "f_1 is a convex function"
   ]
  },
  {
   "cell_type": "code",
   "execution_count": 19,
   "metadata": {},
   "outputs": [
    {
     "name": "stdout",
     "output_type": "stream",
     "text": [
      "0\n"
     ]
    }
   ],
   "source": [
    "x1=float()\n",
    "x2=float()\n",
    "y1=float()\n",
    "y2=float()\n",
    "sum=0\n",
    "for i in range (10):\n",
    "    a = random.random()\n",
    "    if f_2(a*x1+(1-a)*x2,a*y1+(1-a)*y2)> a*f_2(x1,y1)+(1-a)*f_2(x2,y2):\n",
    "        sum+=1 \n",
    "## sum gives us the number of times the inequality is not respected out of the 10 maximum possible times\n",
    "print(sum)"
   ]
  },
  {
   "cell_type": "raw",
   "metadata": {},
   "source": [
    "f_2 is a convex function"
   ]
  },
  {
   "cell_type": "raw",
   "metadata": {},
   "source": [
    "The Problem is thus a convex optimization problem"
   ]
  },
  {
   "cell_type": "markdown",
   "metadata": {},
   "source": [
    "## 2) Solving using scipy"
   ]
  },
  {
   "cell_type": "code",
   "execution_count": 23,
   "metadata": {},
   "outputs": [],
   "source": [
    "# Jacobian\n",
    "def fun_Jac(x):\n",
    "    dx = 2*x[0]\n",
    "    dy = 2*x[1]\n",
    "    return np.array((dx, dy))\n",
    "\n",
    "# Jacobian\n",
    "def fun_Hess(x):\n",
    "    d11 = 2.\n",
    "    d12 = 0.\n",
    "    d22 = 2.\n",
    "    return np.array(((d11, d12),(d12, d22)))"
   ]
  },
  {
   "cell_type": "code",
   "execution_count": 24,
   "metadata": {},
   "outputs": [],
   "source": [
    "# Objective function\n",
    "fun = lambda x: x[0]**2 + x[1]**2 "
   ]
  },
  {
   "cell_type": "code",
   "execution_count": 27,
   "metadata": {},
   "outputs": [
    {
     "name": "stdout",
     "output_type": "stream",
     "text": [
      "     fun: 0.6923076923076916\n",
      "     jac: array([1.38461541, 0.92307691])\n",
      " message: 'Optimization terminated successfully'\n",
      "    nfev: 12\n",
      "     nit: 4\n",
      "    njev: 4\n",
      "  status: 0\n",
      " success: True\n",
      "       x: array([0.6923077 , 0.46153845])\n",
      "optimal value p* 0.6923076923076916\n",
      "optimal var: x1 =  0.6923077007589564  x2 =  0.46153844886156437\n"
     ]
    }
   ],
   "source": [
    "# constraints functions\n",
    "cons = ({'type': 'ineq', 'fun': lambda x: -x[0]**2 - x[0]*x[1] - x[1]**2 + 3},\n",
    "        {'type': 'ineq', 'fun': lambda x: 3*x[0] + 2*x[1] - 3})\n",
    "\n",
    "\n",
    "# bounds, if any, e.g. x1 and x2 have to be possitive\n",
    "bnds = ((None, None), (None, None))\n",
    "\n",
    "\n",
    "# initial guess\n",
    "x0=(10,10)\n",
    "\n",
    "# Method SLSQP uses Sequential Least SQuares Programming to minimize a function \n",
    "# of several variables with any combination of bounds, equality and inequality constraints. \n",
    "\n",
    "res = optimize.minimize(fun, x0, method='SLSQP', bounds=bnds, constraints=cons)\n",
    "print (res)\n",
    "print (\"optimal value p*\", res.fun)\n",
    "print (\"optimal var: x1 = \", res.x[0], \" x2 = \", res.x[1])\n"
   ]
  },
  {
   "cell_type": "code",
   "execution_count": 29,
   "metadata": {},
   "outputs": [
    {
     "name": "stdout",
     "output_type": "stream",
     "text": [
      "\n",
      "      fun: 0.6923076923076927\n",
      "     jac: array([1.38461538, 0.92307692])\n",
      " message: 'Optimization terminated successfully'\n",
      "    nfev: 4\n",
      "     nit: 4\n",
      "    njev: 4\n",
      "  status: 0\n",
      " success: True\n",
      "       x: array([0.69230769, 0.46153846])\n",
      "JAC: optimal value p* 0.6923076923076927\n",
      "JAC: optimal var: x1 =  0.692307692307693  x2 =  0.461538461538461\n"
     ]
    }
   ],
   "source": [
    "\n",
    "res2 = optimize.minimize(fun, x0, method='SLSQP', bounds=bnds, constraints=cons,jac=fun_Jac)\n",
    "print ('\\n',res2)\n",
    "print (\"JAC: optimal value p*\", res2.fun)\n",
    "print (\"JAC: optimal var: x1 = \", res2.x[0], \" x2 = \", res2.x[1])\n",
    "\n"
   ]
  },
  {
   "cell_type": "raw",
   "metadata": {},
   "source": [
    "We see that using the jacobian makes the number of function evaluation (nfev) much lesser "
   ]
  },
  {
   "cell_type": "markdown",
   "metadata": {},
   "source": [
    "## Using the CVX method"
   ]
  },
  {
   "cell_type": "code",
   "execution_count": 9,
   "metadata": {},
   "outputs": [],
   "source": [
    "import cvxpy as cp\n",
    "from cvxpy import *\n",
    "\n",
    "\n",
    "# Create two scalar optimization variables.\n",
    "x = Variable(2, name='x')"
   ]
  },
  {
   "cell_type": "code",
   "execution_count": 46,
   "metadata": {},
   "outputs": [
    {
     "name": "stdout",
     "output_type": "stream",
     "text": [
      "solve 0.6923076924108116\n"
     ]
    }
   ],
   "source": [
    "# Constraints\n",
    "P1 = np.array(np.mat('1. 0.5; 0.5 1.'))\n",
    "f1 = quad_form(x, P1)\n",
    "f2 = 3.*x[0]+2.*x[1]\n",
    "constraints = [f1 <= 3.,f2>=3.]\n",
    "\n",
    "# Form objective.\n",
    "P0 = np.array(np.mat('1. 0.; 0. 1.'))\n",
    "f0 = quad_form(x, P0)\n",
    "obj = Minimize(f0)\n",
    "\n",
    "# Form and solve problem.\n",
    "prob = Problem(obj, constraints)\n",
    "print (\"solve\", prob.solve())  # Returns the optimal value.\n",
    "\n",
    "\n"
   ]
  },
  {
   "cell_type": "code",
   "execution_count": 47,
   "metadata": {},
   "outputs": [
    {
     "name": "stdout",
     "output_type": "stream",
     "text": [
      "status: optimal\n",
      "optimal value p* =  0.6923076924108116\n",
      "optimal var: x1 =  0.6923081958456881  x2 =  0.4615377063422878\n",
      "optimal dual variables lanbda1 =  [1.39314258e-10]\n",
      "optimal dual variables lanbda2 =  0.46154291380933704\n"
     ]
    }
   ],
   "source": [
    "print (\"status:\", prob.status)\n",
    "print (\"optimal value p* = \", prob.value)\n",
    "print (\"optimal var: x1 = \", x[0].value, \" x2 = \", x[1].value)\n",
    "print (\"optimal dual variables lanbda1 = \", constraints[0].dual_value)\n",
    "print (\"optimal dual variables lanbda2 = \", constraints[1].dual_value)"
   ]
  },
  {
   "cell_type": "markdown",
   "metadata": {},
   "source": [
    "# Exercise 4"
   ]
  },
  {
   "cell_type": "markdown",
   "metadata": {},
   "source": [
    "## COP "
   ]
  },
  {
   "cell_type": "code",
   "execution_count": 51,
   "metadata": {},
   "outputs": [],
   "source": [
    "def f(x):\n",
    "    return x**2 +1\n",
    "def f_1(x):\n",
    "    return (x-2)*(x-4)"
   ]
  },
  {
   "cell_type": "code",
   "execution_count": 52,
   "metadata": {},
   "outputs": [
    {
     "name": "stdout",
     "output_type": "stream",
     "text": [
      "0\n"
     ]
    }
   ],
   "source": [
    "x=float()\n",
    "y=float()\n",
    "sum=0\n",
    "for i in range (10):\n",
    "    a = random.random()\n",
    "    if f(a*x+(1-a)*y)> a*f(x)+(1-a)*f(y):\n",
    "        sum+=1 \n",
    "## sum gives us the number of times the inequality is not respected out of the 10 maximum possible times\n",
    "print(sum)"
   ]
  },
  {
   "cell_type": "raw",
   "metadata": {},
   "source": [
    "f is a convex function"
   ]
  },
  {
   "cell_type": "code",
   "execution_count": 53,
   "metadata": {},
   "outputs": [
    {
     "name": "stdout",
     "output_type": "stream",
     "text": [
      "0\n"
     ]
    }
   ],
   "source": [
    "x=float()\n",
    "y=float()\n",
    "sum=0\n",
    "for i in range (10):\n",
    "    a = random.random()\n",
    "    if f_1(a*x+(1-a)*y)> a*f_1(x)+(1-a)*f_1(y):\n",
    "        sum+=1 \n",
    "## sum gives us the number of times the inequality is not respected out of the 10 maximum possible times\n",
    "print(sum)"
   ]
  },
  {
   "cell_type": "raw",
   "metadata": {},
   "source": [
    "f_1 is a convex function"
   ]
  },
  {
   "cell_type": "markdown",
   "metadata": {},
   "source": [
    "This problem is a Convex optimization problem"
   ]
  },
  {
   "cell_type": "markdown",
   "metadata": {},
   "source": [
    "## CVXPY Method"
   ]
  },
  {
   "cell_type": "code",
   "execution_count": 10,
   "metadata": {},
   "outputs": [
    {
     "data": {
      "text/plain": [
       "5.00000000010621"
      ]
     },
     "execution_count": 10,
     "metadata": {},
     "output_type": "execute_result"
    }
   ],
   "source": [
    "# Create one scalar optimization variable.\n",
    "x = Variable(1, name='x')\n",
    "f=x**2 +1\n",
    "obj = Minimize(f)\n",
    "\n",
    "# Constraints\n",
    "#P1 = np.array(np.mat('1. -6.;0. 0.'))\n",
    "#f1 = quad_form(x, P1)+8\n",
    "f1=square(x-2)-2*(x-2)\n",
    "constraints = [f1 <= 0.]\n",
    "\n",
    "prob = cp.Problem(obj, constraints)\n",
    "prob.solve()# Returns the optimal value.\n",
    "#prob.value()"
   ]
  },
  {
   "cell_type": "code",
   "execution_count": 11,
   "metadata": {},
   "outputs": [
    {
     "name": "stdout",
     "output_type": "stream",
     "text": [
      "status: optimal\n",
      "optimal value 5.00000000010621\n",
      "optimal var [2.]\n"
     ]
    }
   ],
   "source": [
    "print(\"status:\", prob.status)\n",
    "print(\"optimal value\", prob.value)\n",
    "print(\"optimal var\", x.value)\n"
   ]
  },
  {
   "cell_type": "raw",
   "metadata": {},
   "source": [
    "The result is consequently correct."
   ]
  },
  {
   "cell_type": "markdown",
   "metadata": {},
   "source": [
    "# Exercise 5"
   ]
  },
  {
   "cell_type": "code",
   "execution_count": 69,
   "metadata": {},
   "outputs": [
    {
     "name": "stdout",
     "output_type": "stream",
     "text": [
      "solve 1.176638098958091e-10\n"
     ]
    }
   ],
   "source": [
    "x = Variable(2, name='x')\n",
    "# Constraints\n",
    "#P1 = np.array(np.mat('1. 0.; 0.5 1.'))\n",
    "f1 = x[0]**2+x[1]**2-2*(x[1]+x[0])\n",
    "f2 = x[0]**2+x[1]**2-2*(-x[1]+x[0])\n",
    "constraints = [f1 <= 1.,f2<=1.]\n",
    "\n",
    "# Form objective.\n",
    "P0 = np.array(np.mat('1. 0.; 0. 1.'))\n",
    "f0 = quad_form(x, P0)\n",
    "obj = Minimize(f0)\n",
    "\n",
    "# Form and solve problem.\n",
    "prob = Problem(obj, constraints)\n",
    "print (\"solve\", prob.solve())  # Returns the optimal value."
   ]
  },
  {
   "cell_type": "code",
   "execution_count": 70,
   "metadata": {},
   "outputs": [
    {
     "name": "stdout",
     "output_type": "stream",
     "text": [
      "status: optimal\n",
      "optimal value p* =  1.176638098958091e-10\n",
      "optimal var: x1 =  1.084729504972595e-05  x2 =  -4.606252155961012e-21\n",
      "optimal dual variables lanbda1 =  6.340506612110884e-10\n",
      "optimal dual variables lanbda2 =  6.340506612110895e-10\n"
     ]
    }
   ],
   "source": [
    "print (\"status:\", prob.status)\n",
    "print (\"optimal value p* = \", prob.value)\n",
    "print (\"optimal var: x1 = \", x[0].value, \" x2 = \", x[1].value)\n",
    "print (\"optimal dual variables lanbda1 = \", constraints[0].dual_value)\n",
    "print (\"optimal dual variables lanbda2 = \", constraints[1].dual_value)"
   ]
  },
  {
   "cell_type": "code",
   "execution_count": null,
   "metadata": {},
   "outputs": [],
   "source": [
    "We find that the optimal values are taken at the points (1.084729504972595e-05, -4.606252155961012e-21)"
   ]
  },
  {
   "cell_type": "markdown",
   "metadata": {},
   "source": [
    "# Exercice 6"
   ]
  },
  {
   "cell_type": "code",
   "execution_count": 90,
   "metadata": {},
   "outputs": [],
   "source": [
    "import numpy as np\n",
    " \n",
    "def gradient_descent(gradient, start, learn_rate, n_iter, tolerance):\n",
    "    vector = start                            #start is the initial value we take, vector will change until we approach the local minimum\n",
    "    for i in range(n_iter):\n",
    "        diff = -learn_rate * gradient(vector) #It's the value that we are going to compare to the tolerance\n",
    "        if np.all(np.abs(diff) <= tolerance): #In this case we are really close to the local minimum\n",
    "            break\n",
    "        vector += diff\n",
    "    return vector\n",
    "\n"
   ]
  },
  {
   "cell_type": "code",
   "execution_count": 131,
   "metadata": {},
   "outputs": [
    {
     "data": {
      "text/plain": [
       "0.00018280792200314866"
      ]
     },
     "execution_count": 131,
     "metadata": {},
     "output_type": "execute_result"
    }
   ],
   "source": [
    "def f(x):\n",
    "    return 2*(x**2) - 0.5\n",
    "gradient= lambda x: 4*x\n",
    "\n",
    "gradient_descent(gradient,3, 0.1,50,10**(-4))\n",
    "\n",
    "# We choose a learning rate of 1000"
   ]
  },
  {
   "cell_type": "code",
   "execution_count": null,
   "metadata": {},
   "outputs": [],
   "source": [
    "def f(x):\n",
    "    return 2*(x**2) - 0.5\n",
    "gradient= lambda x: 4*x\n",
    "\n",
    "gradient_descent(gradient,3, 0.05,50,10**(-4))\n",
    "\n",
    "# We choose a learning rate of 1000"
   ]
  },
  {
   "cell_type": "code",
   "execution_count": 132,
   "metadata": {},
   "outputs": [
    {
     "name": "stdout",
     "output_type": "stream",
     "text": [
      "start=3.0, direction=0.0\n"
     ]
    },
    {
     "ename": "TypeError",
     "evalue": "must be real number, not NoneType",
     "output_type": "error",
     "traceback": [
      "\u001b[0;31m---------------------------------------------------------------------------\u001b[0m",
      "\u001b[0;31mTypeError\u001b[0m                                 Traceback (most recent call last)",
      "\u001b[0;32m<ipython-input-132-b1f388a4fae7>\u001b[0m in \u001b[0;36m<module>\u001b[0;34m\u001b[0m\n\u001b[1;32m     22\u001b[0m \u001b[0;31m# summarize the result\u001b[0m\u001b[0;34m\u001b[0m\u001b[0;34m\u001b[0m\u001b[0;34m\u001b[0m\u001b[0m\n\u001b[1;32m     23\u001b[0m \u001b[0malpha\u001b[0m \u001b[0;34m=\u001b[0m \u001b[0mresult\u001b[0m\u001b[0;34m[\u001b[0m\u001b[0;36m0\u001b[0m\u001b[0;34m]\u001b[0m\u001b[0;34m\u001b[0m\u001b[0;34m\u001b[0m\u001b[0m\n\u001b[0;32m---> 24\u001b[0;31m \u001b[0mprint\u001b[0m\u001b[0;34m(\u001b[0m\u001b[0;34m'Alpha: %.3f'\u001b[0m \u001b[0;34m%\u001b[0m \u001b[0malpha\u001b[0m\u001b[0;34m)\u001b[0m\u001b[0;34m\u001b[0m\u001b[0;34m\u001b[0m\u001b[0m\n\u001b[0m\u001b[1;32m     25\u001b[0m \u001b[0mprint\u001b[0m\u001b[0;34m(\u001b[0m\u001b[0;34m'Function evaluations: %d'\u001b[0m \u001b[0;34m%\u001b[0m \u001b[0mresult\u001b[0m\u001b[0;34m[\u001b[0m\u001b[0;36m1\u001b[0m\u001b[0;34m]\u001b[0m\u001b[0;34m)\u001b[0m\u001b[0;34m\u001b[0m\u001b[0;34m\u001b[0m\u001b[0m\n\u001b[1;32m     26\u001b[0m \u001b[0;31m# define objective function minima\u001b[0m\u001b[0;34m\u001b[0m\u001b[0;34m\u001b[0m\u001b[0;34m\u001b[0m\u001b[0m\n",
      "\u001b[0;31mTypeError\u001b[0m: must be real number, not NoneType"
     ]
    }
   ],
   "source": [
    "# perform a line search on a convex objective function\n",
    "from numpy import arange\n",
    "from scipy.optimize import line_search\n",
    "from matplotlib import pyplot\n",
    "\n",
    "# objective function\n",
    "def objective(x):\n",
    "\treturn 2*(x**2) - 0.5\n",
    "\n",
    "# gradient for the objective function\n",
    "def gradient(x):\n",
    "    return 4*x\n",
    "\n",
    "# define the starting point\n",
    "point = 3.0\n",
    "# define the direction to move\n",
    "direction = 0.0001\n",
    "# print the initial conditions\n",
    "print('start=%.1f, direction=%.1f' % (point, direction))\n",
    "# perform the line search\n",
    "result = line_search(objective, gradient, point, direction)\n",
    "# summarize the result\n",
    "alpha = result[0]\n",
    "print('Alpha: %.3f' % alpha)\n",
    "print('Function evaluations: %d' % result[1])\n",
    "# define objective function minima\n",
    "end = point + alpha * direction\n",
    "# evaluate objective function minima\n",
    "print('f(end) = f(%.3f) = %.3f' % (end, objective(end)))\n",
    "# define range\n",
    "r_min, r_max = -10.0, 20.0\n",
    "# prepare inputs\n",
    "inputs = arange(r_min, r_max, 0.1)\n",
    "# compute targets\n",
    "targets = [objective(x) for x in inputs]\n",
    "# plot inputs vs objective\n",
    "pyplot.plot(inputs, targets, '--', label='objective')\n",
    "# plot start and end of the search\n",
    "pyplot.plot([point], [objective(point)], 's', color='g')\n",
    "pyplot.plot([end], [objective(end)], 's', color='r')\n",
    "pyplot.legend()\n",
    "pyplot.show()"
   ]
  },
  {
   "cell_type": "code",
   "execution_count": 130,
   "metadata": {},
   "outputs": [
    {
     "name": "stdout",
     "output_type": "stream",
     "text": [
      "start=3.0, direction=0.0\n"
     ]
    },
    {
     "ename": "TypeError",
     "evalue": "must be real number, not NoneType",
     "output_type": "error",
     "traceback": [
      "\u001b[0;31m---------------------------------------------------------------------------\u001b[0m",
      "\u001b[0;31mTypeError\u001b[0m                                 Traceback (most recent call last)",
      "\u001b[0;32m<ipython-input-130-e4638ae2c000>\u001b[0m in \u001b[0;36m<module>\u001b[0;34m\u001b[0m\n\u001b[1;32m     22\u001b[0m \u001b[0;31m# summarize the result\u001b[0m\u001b[0;34m\u001b[0m\u001b[0;34m\u001b[0m\u001b[0;34m\u001b[0m\u001b[0m\n\u001b[1;32m     23\u001b[0m \u001b[0malpha\u001b[0m \u001b[0;34m=\u001b[0m \u001b[0mresult\u001b[0m\u001b[0;34m[\u001b[0m\u001b[0;36m0\u001b[0m\u001b[0;34m]\u001b[0m\u001b[0;34m\u001b[0m\u001b[0;34m\u001b[0m\u001b[0m\n\u001b[0;32m---> 24\u001b[0;31m \u001b[0mprint\u001b[0m\u001b[0;34m(\u001b[0m\u001b[0;34m'Alpha: %.3f'\u001b[0m \u001b[0;34m%\u001b[0m \u001b[0malpha\u001b[0m\u001b[0;34m)\u001b[0m\u001b[0;34m\u001b[0m\u001b[0;34m\u001b[0m\u001b[0m\n\u001b[0m\u001b[1;32m     25\u001b[0m \u001b[0mprint\u001b[0m\u001b[0;34m(\u001b[0m\u001b[0;34m'Function evaluations: %d'\u001b[0m \u001b[0;34m%\u001b[0m \u001b[0mresult\u001b[0m\u001b[0;34m[\u001b[0m\u001b[0;36m1\u001b[0m\u001b[0;34m]\u001b[0m\u001b[0;34m)\u001b[0m\u001b[0;34m\u001b[0m\u001b[0;34m\u001b[0m\u001b[0m\n\u001b[1;32m     26\u001b[0m \u001b[0;31m# define objective function minima\u001b[0m\u001b[0;34m\u001b[0m\u001b[0;34m\u001b[0m\u001b[0;34m\u001b[0m\u001b[0m\n",
      "\u001b[0;31mTypeError\u001b[0m: must be real number, not NoneType"
     ]
    }
   ],
   "source": [
    "# perform a line search on a convex objective function\n",
    "from numpy import arange\n",
    "from scipy.optimize import line_search\n",
    "from matplotlib import pyplot\n",
    "\n",
    "# objective function\n",
    "def objective(x):\n",
    "\treturn 2*(x**2) - 0.5\n",
    "\n",
    "# gradient for the objective function\n",
    "def gradient(x):\n",
    "    return 4*x\n",
    "\n",
    "# define the starting point\n",
    "point = 3\n",
    "# define the direction to move\n",
    "direction = 0.001\n",
    "# print the initial conditions\n",
    "print('start=%.1f, direction=%.1f' % (point, direction))\n",
    "# perform the line search\n",
    "result = line_search(objective, gradient, point, direction)\n",
    "# summarize the result\n",
    "alpha = result[0]\n",
    "print('Alpha: %.3f' % alpha)\n",
    "print('Function evaluations: %d' % result[1])\n",
    "# define objective function minima\n",
    "end = point + alpha * direction\n",
    "# evaluate objective function minima\n",
    "print('f(end) = f(%.3f) = %.3f' % (end, objective(end)))\n",
    "# define range\n",
    "r_min, r_max = -10.0, 20.0\n",
    "# prepare inputs\n",
    "inputs = arange(r_min, r_max, 0.1)\n",
    "# compute targets\n",
    "targets = [objective(x) for x in inputs]\n",
    "# plot inputs vs objective\n",
    "pyplot.plot(inputs, targets, '--', label='objective')\n",
    "# plot start and end of the search\n",
    "pyplot.plot([point], [objective(point)], 's', color='g')\n",
    "pyplot.plot([end], [objective(end)], 's', color='r')\n",
    "pyplot.legend()\n",
    "pyplot.show()"
   ]
  },
  {
   "cell_type": "code",
   "execution_count": 124,
   "metadata": {},
   "outputs": [
    {
     "name": "stdout",
     "output_type": "stream",
     "text": [
      "start=-2.0, direction=100.0\n",
      "(None, 13, 2, None, 13.5, None)\n",
      "None\n",
      "Function evaluations: 13\n"
     ]
    },
    {
     "ename": "TypeError",
     "evalue": "unsupported operand type(s) for *: 'NoneType' and 'float'",
     "output_type": "error",
     "traceback": [
      "\u001b[0;31m---------------------------------------------------------------------------\u001b[0m",
      "\u001b[0;31mTypeError\u001b[0m                                 Traceback (most recent call last)",
      "\u001b[0;32m<ipython-input-124-5a955ae2b84f>\u001b[0m in \u001b[0;36m<module>\u001b[0;34m\u001b[0m\n\u001b[1;32m     27\u001b[0m \u001b[0mprint\u001b[0m\u001b[0;34m(\u001b[0m\u001b[0;34m'Function evaluations: %d'\u001b[0m \u001b[0;34m%\u001b[0m \u001b[0mresult\u001b[0m\u001b[0;34m[\u001b[0m\u001b[0;36m1\u001b[0m\u001b[0;34m]\u001b[0m\u001b[0;34m)\u001b[0m\u001b[0;34m\u001b[0m\u001b[0;34m\u001b[0m\u001b[0m\n\u001b[1;32m     28\u001b[0m \u001b[0;31m# define objective function minima\u001b[0m\u001b[0;34m\u001b[0m\u001b[0;34m\u001b[0m\u001b[0;34m\u001b[0m\u001b[0m\n\u001b[0;32m---> 29\u001b[0;31m \u001b[0mend\u001b[0m \u001b[0;34m=\u001b[0m \u001b[0mpoint\u001b[0m \u001b[0;34m+\u001b[0m \u001b[0malpha\u001b[0m \u001b[0;34m*\u001b[0m \u001b[0mdirection\u001b[0m\u001b[0;34m\u001b[0m\u001b[0;34m\u001b[0m\u001b[0m\n\u001b[0m\u001b[1;32m     30\u001b[0m \u001b[0;31m# evaluate objective function minima\u001b[0m\u001b[0;34m\u001b[0m\u001b[0;34m\u001b[0m\u001b[0;34m\u001b[0m\u001b[0m\n\u001b[1;32m     31\u001b[0m \u001b[0mprint\u001b[0m\u001b[0;34m(\u001b[0m\u001b[0;34m'f(end) = f(%.3f) = %.3f'\u001b[0m \u001b[0;34m%\u001b[0m \u001b[0;34m(\u001b[0m\u001b[0mend\u001b[0m\u001b[0;34m,\u001b[0m \u001b[0mobjective\u001b[0m\u001b[0;34m(\u001b[0m\u001b[0mend\u001b[0m\u001b[0;34m)\u001b[0m\u001b[0;34m)\u001b[0m\u001b[0;34m)\u001b[0m\u001b[0;34m\u001b[0m\u001b[0;34m\u001b[0m\u001b[0m\n",
      "\u001b[0;31mTypeError\u001b[0m: unsupported operand type(s) for *: 'NoneType' and 'float'"
     ]
    }
   ],
   "source": [
    "# perform a line search on a convex objective function\n",
    "from numpy import arange\n",
    "from scipy.optimize import line_search\n",
    "from matplotlib import pyplot\n",
    "\n",
    "# objective function\n",
    "def objective(x):\n",
    "\treturn 2*(x**4)-4*(x**2)+x - 0.5\n",
    "\n",
    "# gradient for the objective function\n",
    "def gradient(x):\n",
    "    return 24*x*x-8\n",
    "\n",
    "# define the starting point\n",
    "point=\n",
    "    \n",
    "# define the direction to move\n",
    "direction = 100.0\n",
    "# print the initial conditions\n",
    "print('start=%.1f, direction=%.1f' % (point, direction))\n",
    "# perform the line search\n",
    "result = line_search(objective, gradient, point, direction)\n",
    "# summarize the result\n",
    "alpha = result[0]\n",
    "print(result)\n",
    "print(alpha)\n",
    "print('Function evaluations: %d' % result[1])\n",
    "# define objective function minima\n",
    "end = point + alpha * direction\n",
    "# evaluate objective function minima\n",
    "print('f(end) = f(%.3f) = %.3f' % (end, objective(end)))\n",
    "# define range\n",
    "r_min, r_max = -10.0, 20.0\n",
    "# prepare inputs\n",
    "inputs = arange(r_min, r_max, 0.1)\n",
    "# compute targets\n",
    "targets = [objective(x) for x in inputs]\n",
    "# plot inputs vs objective\n",
    "pyplot.plot(inputs, targets, '--', label='objective')\n",
    "# plot start and end of the search\n",
    "pyplot.plot([point], [objective(point)], 's', color='g')\n",
    "pyplot.plot([end], [objective(end)], 's', color='r')\n",
    "pyplot.legend()\n",
    "pyplot.show()"
   ]
  },
  {
   "cell_type": "markdown",
   "metadata": {},
   "source": [
    "# Exercise 7"
   ]
  },
  {
   "cell_type": "raw",
   "metadata": {},
   "source": [
    "We have the following optimization problem: C1=C3=C5=1, C4=C2=2\n",
    "    Max: np.log(x0)+np.log(x1)+np.log(x2)\n",
    "    given: x0+x2<=1\n",
    "           x0+x1<=2\n",
    "            x2<=1\n",
    "            x=(x1,x2,x3)>=0"
   ]
  },
  {
   "cell_type": "code",
   "execution_count": 147,
   "metadata": {},
   "outputs": [
    {
     "name": "stdout",
     "output_type": "stream",
     "text": [
      "solve 0.9547712589294085\n"
     ]
    }
   ],
   "source": [
    "x = Variable(3, name='x')\n",
    "# Constraints\n",
    "f1 = x[0]+x[2]\n",
    "f2 = x[0]+x[1]\n",
    "f3=x[2]\n",
    "f4,f5,f6=x[0],x[1],x[2]\n",
    "\n",
    "constraints = [f1 <= 1.,f2<=2.,f3<=1,f4>=0,f5>=0,f6>=0]\n",
    "\n",
    "# Form objective.\n",
    "f0 = -cp.log(x[0])-cp.log(x[1])-cp.log(x[2])\n",
    "obj = Minimize(f0)\n",
    "\n",
    "# Form and solve problem.\n",
    "prob = Problem(obj, constraints)\n",
    "print (\"solve\", prob.solve())  # Returns the optimal value."
   ]
  },
  {
   "cell_type": "code",
   "execution_count": 148,
   "metadata": {},
   "outputs": [
    {
     "name": "stdout",
     "output_type": "stream",
     "text": [
      "status: optimal\n",
      "optimal value p* =  0.9547712589294085\n",
      "optimal var: x1 =  0.4226489442893967  x2 =  1.577351049782123  x2 =  0.5773510541368012\n"
     ]
    }
   ],
   "source": [
    "print (\"status:\", prob.status)\n",
    "print (\"optimal value p* = \", prob.value)\n",
    "print (\"optimal var: x1 = \", x[0].value, \" x2 = \", x[1].value,\" x2 = \", x[2].value )\n"
   ]
  },
  {
   "cell_type": "code",
   "execution_count": 150,
   "metadata": {},
   "outputs": [
    {
     "name": "stdout",
     "output_type": "stream",
     "text": [
      "optimal dual variables lanbda1 =  1.7320483134403175\n",
      "optimal dual variables lanbda2 =  0.6339745314617544\n",
      "optimal dual variables lanbda2 =  6.437850296384749e-09\n",
      "optimal dual variables lanbda2 =  6.544679319172325e-09\n",
      "optimal dual variables lanbda2 =  1.7755538040590713e-09\n",
      "optimal dual variables lanbda2 =  4.7795891196703965e-09\n"
     ]
    }
   ],
   "source": [
    "print (\"optimal dual variables lanbda1 = \", constraints[0].dual_value)\n",
    "print (\"optimal dual variables lanbda2 = \", constraints[1].dual_value)\n",
    "print (\"optimal dual variables lanbda2 = \", constraints[2].dual_value)\n",
    "print (\"optimal dual variables lanbda2 = \", constraints[3].dual_value)\n",
    "print (\"optimal dual variables lanbda2 = \", constraints[4].dual_value)\n",
    "print (\"optimal dual variables lanbda2 = \", constraints[5].dual_value)"
   ]
  },
  {
   "cell_type": "markdown",
   "metadata": {},
   "source": [
    "## Exercice 8"
   ]
  },
  {
   "cell_type": "code",
   "execution_count": 154,
   "metadata": {},
   "outputs": [
    {
     "name": "stdout",
     "output_type": "stream",
     "text": [
      "solve 3.988984052450879\n"
     ]
    }
   ],
   "source": [
    "x = Variable(3, name='x')\n",
    "r=Variable(3, name='r')\n",
    "# Constraints\n",
    "f1 = x[0]+x[1]-r[0]\n",
    "f2 = x[1]-r[1]\n",
    "f3=x[2]-r[2]\n",
    "f4,f5,f6=x[0],x[1],x[2]\n",
    "f7=r[0]+r[1]+r[2]\n",
    "\n",
    "constraints = [f1 <=0.,f2<=0.,f3<=0.,f4>=0,f5>=0,f6>=0,f7<=1]\n",
    "\n",
    "# Form objective.\n",
    "f0 = -cp.log(x[0])-cp.log(x[1])-cp.log(x[2])\n",
    "obj = Minimize(f0)\n",
    "\n",
    "# Form and solve problem.\n",
    "prob = Problem(obj, constraints)\n",
    "print (\"solve\", prob.solve())  # Returns the optimal value."
   ]
  },
  {
   "cell_type": "code",
   "execution_count": 155,
   "metadata": {},
   "outputs": [
    {
     "name": "stdout",
     "output_type": "stream",
     "text": [
      "status: optimal\n",
      "optimal value p* =  3.988984052450879\n",
      "optimal var: x1 =  0.3333333825734628  x2 =  0.16666661645166228  x2 =  0.33333338256103356\n"
     ]
    }
   ],
   "source": [
    "print (\"status:\", prob.status)\n",
    "print (\"optimal value p* = \", prob.value)\n",
    "print (\"optimal var: x1 = \", x[0].value, \" x2 = \", x[1].value,\" x2 = \", x[2].value )"
   ]
  },
  {
   "cell_type": "code",
   "execution_count": 156,
   "metadata": {},
   "outputs": [
    {
     "name": "stdout",
     "output_type": "stream",
     "text": [
      "optimal var: r12 =  0.49999999901293635  r23 =  0.1666666164396779  r32 =  0.33333338254884487\n"
     ]
    }
   ],
   "source": [
    "print (\"optimal var: r12 = \", r[0].value, \" r23 = \", r[1].value,\" r32 = \", r[2].value )"
   ]
  },
  {
   "cell_type": "code",
   "execution_count": 157,
   "metadata": {},
   "outputs": [
    {
     "name": "stdout",
     "output_type": "stream",
     "text": [
      "optimal dual variables lanbda1 =  2.9999987617369954\n",
      "optimal dual variables lanbda2 =  2.999998761733807\n",
      "optimal dual variables lanbda2 =  2.9999987617353154\n",
      "optimal dual variables lanbda2 =  2.999998761732127\n"
     ]
    }
   ],
   "source": [
    "print (\"optimal dual variables lanbda1 = \", constraints[0].dual_value)\n",
    "print (\"optimal dual variables lanbda2 = \", constraints[1].dual_value)\n",
    "print (\"optimal dual variables lanbda2 = \", constraints[2].dual_value)\n",
    "print (\"optimal dual variables lanbda2 = \", constraints[6].dual_value)"
   ]
  }
 ],
 "metadata": {
  "kernelspec": {
   "display_name": "Python 3",
   "language": "python",
   "name": "python3"
  },
  "language_info": {
   "codemirror_mode": {
    "name": "ipython",
    "version": 3
   },
   "file_extension": ".py",
   "mimetype": "text/x-python",
   "name": "python",
   "nbconvert_exporter": "python",
   "pygments_lexer": "ipython3",
   "version": "3.8.5"
  }
 },
 "nbformat": 4,
 "nbformat_minor": 4
}
